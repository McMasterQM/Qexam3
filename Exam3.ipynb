{
 "cells": [
  {
   "cell_type": "markdown",
   "metadata": {},
   "source": [
    "# Knowledge Test 3\n",
    "\n",
    "## &#x1f468;&#x200d;&#x1f3eb; Purpose\n",
    "This contains questions about the course material.\n",
    "1. &#x1f3b2; Multiple-Choice Questions. (One or more answers, separated by spaces or commas.)\n",
    "2. &#x1fa99; True/False Questions. (Write True/False.)\n",
    "3. &#x1F5A9; Numerical answers requiring some calculation. (Write the numerical answer in the requested units with at least 4 digits of precision.)\n",
    "4. &#x1f9ee; Numerical answers requiring minimal calculation or counting. (Write the answer as a number.)\n",
    "4. &#x1f500; Matching Questions. (Write pairs sequentially.)\n",
    "\n",
    "> **Notes:**\n",
    ">- You can upload files to show your mathematical work; you can also type mathematics using Markdown.\n",
    ">- You can use the notebook as a calculator for numerical problems; but you can also just type in your answer computed offline.\n",
    ">- You may find these [sheets containing reference data and mathematical formulas/identities](https://github.com/QC-Edu/IntroQM2022/blob/master/book/documents/ReferenceConstantsConversionsMath.pdf) useful.\n",
    "\n",
    "\n",
    "-----\n",
    "## &#x1f4dc; Instructions\n",
    "\n",
    "Answer the following 10 questions. Remember to *always* put your answer in the indicated position and never use the bold-faced word \"Answer\" elsewhere. Other than that restriction, the rest of your notebook is yours to play with."
   ]
  },
  {
   "cell_type": "code",
   "execution_count": 12,
   "metadata": {},
   "outputs": [],
   "source": [
    "import numpy as np\n",
    "import scipy\n",
    "from scipy import constants"
   ]
  },
  {
   "cell_type": "markdown",
   "metadata": {},
   "source": [
    "----\n",
    "**1.** &#x1f3b2; The error in the Hartree-Fock approximation is associated with which of the following effects:\n",
    "\n",
    "| | |\n",
    "|-- |--|\n",
    "|**A.** orbital relaxation.| **C.** effective nuclear charge|\n",
    "|**B.** electron correlation| **D.** orbital screening.|\n",
    "| | |\n",
    "\n",
    "**Answer:**"
   ]
  },
  {
   "cell_type": "markdown",
   "metadata": {},
   "source": [
    "-----\n",
    "\n",
    "**2.** &#x1fa99; **Approximating a molecular orbital as a linear combination of atomic orbitals is motivated by consideration of the united-atom limit.** (True/False)\n",
    "\n",
    "**Answer:** "
   ]
  },
  {
   "cell_type": "markdown",
   "metadata": {},
   "source": [
    "-------\n",
    "**3.** &#x1f500; Below, there are expressions for molecular orbitals in terms of (very simple) linear combinations of atomic orbitals. Assume that this is a homonuclear diatomic molecule; assume furthermore that the bond axis is the $z$ axis. (That is, both nuclei are located at $x=y=0$; they only differ in the value of their $z$ coordinate, $z_A = -\\tfrac{R}{2}$ and $z_B = \\tfrac{R}{2}$) **Match the mathematical expressions for the orbitals to the corresponding symmetry label.** \n",
    "\n",
    "|  Symmetry Label  | Form of Molecular Orbital   |\n",
    "| -- | -- | \n",
    "| **A.** $\\sigma_g $ | **1.** $\\psi(\\mathbf{r}) = \\phi_{3p_x}^{(A)}(\\mathbf{r}) + \\phi_{3p_x}^{(B)}(\\mathbf{r})$  |\n",
    "| **B.** $\\sigma_u $ | **2.** $\\psi(\\mathbf{r}) = \\phi_{2s}^{(A)}(\\mathbf{r}) - \\phi_{2s}^{(B)}(\\mathbf{r})$  |\n",
    "| **C.** $\\pi_u^+ $ | **3.** $\\psi(\\mathbf{r}) = \\phi_{2p_z}^{(A)}(\\mathbf{r}) - \\phi_{2p_z}^{(B)}(\\mathbf{r})$ |\n",
    "| **D.** $\\pi_g^+ $ | **4.**  $\\psi(\\mathbf{r}) = \\phi_{3d_{xz}}^{(A)}(\\mathbf{r}) + \\phi_{3d_{xz}}^{(B)}(\\mathbf{r})$  |\n",
    "\n",
    "**Answer:** "
   ]
  },
  {
   "cell_type": "markdown",
   "metadata": {},
   "source": [
    "----\n",
    "----\n",
    "The following text/figure is useful for the next two questions.\n",
    "\n",
    "Consider what would happen if you put two infinite-walled boxes, with equal size $a$, next to each other. The potential has the form\n",
    "$$\n",
    "V(x) =\n",
    "\\begin{cases}\n",
    "+\\infty && x\\le 0 \\\\\n",
    "0 && 0 < x < a\\\\\n",
    "+\\infty && x=a \\\\\n",
    "0 && a < x < 2a \\\\\n",
    "+\\infty && 2a \\le x\n",
    "\\end{cases}\n",
    "$$\n",
    "and is depicted below.\n",
    "\n",
    "![Particle in a Divided Box](PinBoxDivided.png)\n",
    "\n",
    "Note that there is still a barrier that prevents particles from being located at the place where the boxes meet, $x=a$. \n",
    "\n",
    "A single electron is added to a box of width $a=4 \\cdot 10^{-10} \\text{ m}$.  "
   ]
  },
  {
   "cell_type": "markdown",
   "metadata": {},
   "source": [
    "-----\n",
    "**4.** **What is the ground-state energy of the system?** Give your answer in Joules.\n",
    "\n",
    "**Answer:**"
   ]
  },
  {
   "cell_type": "markdown",
   "metadata": {},
   "source": [
    "----\n",
    "**5.** Assume the system is prepared in its ground state. The absorption spectrum is taken. **What is the longest-wavelength absorption?** Give your answer in nanometers.\n",
    "\n",
    "**Answer:**"
   ]
  },
  {
   "cell_type": "markdown",
   "metadata": {},
   "source": [
    "-----\n",
    "\n",
    "**6.** &#x1f3b2; **Which of the following term symbols are associated with the $[\\text{He}]2s^2 2p^2 3d^1$ excited state of the Nitrogen atom?**\n",
    "\n",
    "|        |        |         |         |          |\n",
    "| ------ | ------ | ------  |------   |  ------  |\n",
    "|**A.** ${}^1\\text{S}$ |**F.** ${}^1\\text{P}$ |**K.** ${}^1\\text{D}$ |**P.** ${}^1\\text{F}$ |**U.** ${}^1\\text{G}$ |\n",
    "|**B.** ${}^2\\text{S}$ |**G.** ${}^2\\text{P}$ |**L.** ${}^2\\text{D}$ |**Q.** ${}^2\\text{F}$ |**V.** ${}^2\\text{G}$ |\n",
    "|**C.** ${}^3\\text{S}$ |**H.** ${}^3\\text{P}$ |**M.** ${}^3\\text{D}$ |**R.** ${}^3\\text{F}$ |**W.** ${}^3\\text{G}$ |\n",
    "|**D.** ${}^4\\text{S}$ |**I.** ${}^4\\text{P}$ |**N.** ${}^4\\text{D}$ |**S.** ${}^4\\text{F}$ |**X.** ${}^4\\text{G}$ |\n",
    "|**E.** ${}^5\\text{S}$ |**J.** ${}^5\\text{P}$ |**O.** ${}^5\\text{D}$ |**T.** ${}^5\\text{F}$ |**Y.** ${}^5\\text{G}$ |\n",
    "|        |        |         |         |          |\n",
    "\n",
    "**Answer:**"
   ]
  },
  {
   "cell_type": "markdown",
   "metadata": {},
   "source": [
    "-------\n",
    "\n",
    "**7.** The term symbols associated with the electron configuration of the Vanadian atom, $[\\text{Ar}]4s^23d^3$ are ${}^2P,\\,{}^4P,\\,{}^2D,\\,{}^2D,\\,{}^2F,\\,{}^4F,\\,{}^2G,\\,{}^2H$. What value of the total angular momentum quantum number, $J$, does Hund's rules predict for the ground state? *Report your answer as a decimal number, not a fraction.*\n",
    "\n",
    "**Answer:** "
   ]
  },
  {
   "cell_type": "markdown",
   "metadata": {},
   "source": [
    "-----\n",
    "-----\n",
    "The following text is useful for the next three problems. \n",
    "\n",
    "The quantum harmonic oscillator is often used as a model for vibrational motion of molecules. For a simple vibration of a diatomic molecule, AB, the harmonic oscillator Hamiltonian has the form:\n",
    "$$\n",
    "-\\frac{\\hbar^2}{2\\mu} \\frac{d^2}{dx^2} + \\frac{1}{2}kx^2\n",
    "$$\n",
    "where \n",
    "$$\n",
    "\\mu = \\frac{m_A m_B}{m_A+m_B}\n",
    "$$\n",
    "is the reduced mass and $k$ is the force constant associated with the potential that binds the nuclei together. The eigenvalues of the Hamiltonian are:\n",
    "$$\n",
    "E_n = \\hbar \\omega (n+\\tfrac{1}{2}) \\qquad  \\qquad n=0,1,2,\\ldots\n",
    "$$\n",
    "where \n",
    "$$\n",
    "\\omega = \\sqrt{\\tfrac{k}{\\mu}}\n",
    "$$\n",
    "is the angular frequency. The ground-state wavefunction is \n",
    "$$\n",
    "\\psi_0(x) = \\left(\\frac{\\mu \\omega}{\\hbar \\pi} \\right)^{\\tfrac{1}{4}} e^{-\\frac{\\mu \\omega x^2}{2 \\hbar}}\n",
    "$$"
   ]
  },
  {
   "cell_type": "markdown",
   "metadata": {},
   "source": [
    "-----\n",
    "\n",
    "**8.** &#x270d;&#xfe0f;&#x1f3b2; The kinetic energy energy of the harmonic oscillator is ____ than the potential energy of the harmonic oscillator.\n",
    "\n",
    "\n",
    "|   |   |   |\n",
    "|---|---|---|\n",
    "|**A.** greater than | **B.** equal to | **C.** less than|\n",
    "|   |   |   |\n",
    "\n",
    "**Answer:**"
   ]
  },
  {
   "cell_type": "markdown",
   "metadata": {},
   "source": [
    "-----\n",
    "**9.** The force constant for ${}^1\\text{H}{}^{35}\\text{Cl}$ is 480 N/m (SI units). **What is the wavenumber, $\\bar{\\nu} = \\tfrac{1}{\\lambda}$ associated with the lowest-energy vibrational transition?** Report your answer in $\\text{cm}^{-1}$.\n",
    "\n",
    "**Answer:** "
   ]
  },
  {
   "cell_type": "markdown",
   "metadata": {},
   "source": [
    "-----\n",
    "**10.** The wavenumber, $\\bar{\\nu} = \\tfrac{1}{\\lambda}$, associated with the lowest energy vibration transition in ${}^3\\text{H}{}^{37}\\text{Cl}$ a constant multiple of the associated quantity for ${}^1\\text{H}{}^{35}\\text{Cl}$. I.e., \n",
    "\n",
    "$$\n",
    "\\bar{\\nu}_{{}^3\\text{H}{}^{37}\\text{Cl}} = a \\cdot \\bar{\\nu}_{{}^1\\text{H}{}^{35}\\text{Cl}}\n",
    "$$\n",
    "\n",
    "where $a$ is a unitless constant. **What is the value of $a$?**\n",
    "\n",
    "**Answer:** "
   ]
  }
 ],
 "metadata": {
  "interpreter": {
   "hash": "8867fa4a874d625ac151e80518eaa96dde9c32243951e64c9d5c087633ad9a9a"
  },
  "kernelspec": {
   "display_name": "Python 3 (ipykernel)",
   "language": "python",
   "name": "python3"
  },
  "language_info": {
   "codemirror_mode": {
    "name": "ipython",
    "version": 3
   },
   "file_extension": ".py",
   "mimetype": "text/x-python",
   "name": "python",
   "nbconvert_exporter": "python",
   "pygments_lexer": "ipython3",
   "version": "3.9.7"
  }
 },
 "nbformat": 4,
 "nbformat_minor": 2
}
